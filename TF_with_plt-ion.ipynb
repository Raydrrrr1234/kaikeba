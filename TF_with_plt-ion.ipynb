{
 "cells": [
  {
   "cell_type": "code",
   "execution_count": 4,
   "metadata": {},
   "outputs": [
    {
     "name": "stdout",
     "output_type": "stream",
     "text": [
      "WARNING:tensorflow:From C:\\Users\\Raydrrrr\\Anaconda3\\envs\\tensorflow\\lib\\site-packages\\tensorflow_core\\python\\compat\\v2_compat.py:65: disable_resource_variables (from tensorflow.python.ops.variable_scope) is deprecated and will be removed in a future version.\n",
      "Instructions for updating:\n",
      "non-resource variables are not supported in the long term\n",
      "WARNING:tensorflow:From C:\\Users\\Raydrrrr\\Anaconda3\\envs\\tensorflow\\lib\\site-packages\\tensorflow_core\\python\\util\\tf_should_use.py:198: initialize_all_variables (from tensorflow.python.ops.variables) is deprecated and will be removed after 2017-03-02.\n",
      "Instructions for updating:\n",
      "Use `tf.global_variables_initializer` instead.\n"
     ]
    }
   ],
   "source": [
    "import tensorflow.compat.v1 as tf\n",
    "import numpy as np\n",
    "import matplotlib.pyplot as plt\n",
    "tf.disable_v2_behavior()\n",
    "def add_layer(inputs,in_size,out_size,activation_funiction=None):\n",
    "    Weights = tf.Variable(tf.random_normal([in_size,out_size]))\n",
    "    biases = tf.Variable(tf.zeros([1,out_size]) +0.1)\n",
    "    Wx_plus_b = tf.matmul(inputs,Weights)+biases\n",
    "    if activation_funiction is None:\n",
    "        outputs = Wx_plus_b\n",
    "    else:\n",
    "        outputs = activation_funiction(Wx_plus_b)\n",
    "    return outputs\n",
    "\n",
    "x_data = np.linspace(-1,1,300)[:,np.newaxis]\n",
    "noise = np.random.normal(0,0.05,x_data.shape)\n",
    "y_data = np.square(x_data)-0.5 +noise\n",
    " \n",
    "xs = tf.placeholder(tf.float32,[None,1])   \n",
    "ys = tf.placeholder(tf.float32,[None,1])\n",
    " \n",
    "#add hidden layer\n",
    "l1 = add_layer(xs,1,10,activation_funiction=tf.nn.relu)\n",
    "#add output layer\n",
    "prediction = add_layer(l1,10,1,activation_funiction=None)\n",
    " \n",
    "#the error between prediction and real data\n",
    "loss = tf.reduce_mean(tf.reduce_sum(tf.square(ys - prediction),reduction_indices=[1]))\n",
    "train_step = tf.train.GradientDescentOptimizer(0.1).minimize(loss)\n",
    " \n",
    "init =tf.initialize_all_variables()\n"
   ]
  },
  {
   "cell_type": "code",
   "execution_count": 11,
   "metadata": {},
   "outputs": [
    {
     "data": {
      "image/png": "[encoded data removed]",
      "text/plain": [
       "<Figure size 432x288 with 1 Axes>"
      ]
     },
     "metadata": {
      "needs_background": "light"
     },
     "output_type": "display_data"
    },
    {
     "name": "stdout",
     "output_type": "stream",
     "text": [
      "0.3625078\n",
      "0.008102255\n",
      "0.007447146\n",
      "0.006841276\n",
      "0.0062457896\n",
      "0.0056587975\n",
      "0.005115539\n",
      "0.004633805\n",
      "0.0041922443\n",
      "0.0039284164\n",
      "0.0037052704\n",
      "0.0035361107\n",
      "0.0033967304\n",
      "0.003271\n",
      "0.0031884324\n",
      "0.0031266138\n",
      "0.0030906613\n",
      "0.0030623395\n",
      "0.0030392564\n",
      "0.0030204619\n"
     ]
    }
   ],
   "source": [
    "with tf.Session() as sess:\n",
    "    sess.run(init)\n",
    "    fig = plt.figure()\n",
    "    ax = fig.add_subplot(1,1,1)\n",
    "    ax.scatter(x_data,y_data)\n",
    "    plt.ion()   #将画图模式改为交互模式\n",
    "    for i in range(1000):\n",
    "        sess.run(train_step,feed_dict={xs:x_data,ys:y_data})\n",
    "        if i%50 ==0:\n",
    "            plt.pause(0.1)\n",
    "            try:\n",
    "                ax.lines.remove(lines[0])\n",
    "            except Exception:\n",
    "                pass\n",
    "            prediction_value = sess.run(prediction,feed_dict={xs:x_data})\n",
    "            lines = ax.plot(x_data,prediction_value,'r-',lw=5)\n",
    "            plt.show()\n",
    "            print(sess.run(loss,feed_dict={xs:x_data,ys:y_data}))\n",
    "    plt.ioff()\n",
    "    "
   ]
  },
  {
   "cell_type": "code",
   "execution_count": null,
   "metadata": {},
   "outputs": [],
   "source": []
  }
 ],
 "metadata": {
  "kernelspec": {
   "display_name": "Python 3",
   "language": "python",
   "name": "python3"
  },
  "language_info": {
   "codemirror_mode": {
    "name": "ipython",
    "version": 3
   },
   "file_extension": ".py",
   "mimetype": "text/x-python",
   "name": "python",
   "nbconvert_exporter": "python",
   "pygments_lexer": "ipython3",
   "version": "3.6.9"
  }
 },
 "nbformat": 4,
 "nbformat_minor": 2
}
